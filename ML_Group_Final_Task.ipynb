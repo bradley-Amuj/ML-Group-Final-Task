{
  "nbformat": 4,
  "nbformat_minor": 0,
  "metadata": {
    "colab": {
      "name": "ML Group Final Task2.ipynb",
      "provenance": [],
      "collapsed_sections": [],
      "mount_file_id": "1tlbNMxTNQ6OsIOvqfnP_u9RuBvLf2JF2",
      "authorship_tag": "ABX9TyNBcOPXQzuZcsT4Bs2cN02A",
      "include_colab_link": true
    },
    "kernelspec": {
      "name": "python3",
      "display_name": "Python 3"
    },
    "language_info": {
      "name": "python"
    },
    "accelerator": "GPU"
  },
  "cells": [
    {
      "cell_type": "markdown",
      "metadata": {
        "id": "view-in-github",
        "colab_type": "text"
      },
      "source": [
        "<a href=\"https://colab.research.google.com/github/bradley-Amuj/ML-Group-Final-Task/blob/main/ML_Group_Final_Task.ipynb\" target=\"_parent\"><img src=\"https://colab.research.google.com/assets/colab-badge.svg\" alt=\"Open In Colab\"/></a>"
      ]
    },
    {
      "cell_type": "markdown",
      "metadata": {
        "id": "gCQ6MbXvd_LO"
      },
      "source": [
        "**Questions**\n",
        "\n",
        "1.The below problem is a muticlass classification problems. This is because, there exists multiple classes(5) in the dataset that are to be classified."
      ]
    },
    {
      "cell_type": "markdown",
      "metadata": {
        "id": "vH6pgpY2cckM"
      },
      "source": [
        "**IMPORTS**"
      ]
    },
    {
      "cell_type": "code",
      "metadata": {
        "id": "YuEDMAlRbz6z"
      },
      "source": [
        "import os\n",
        "import glob\n",
        "import h5py\n",
        "\n",
        "from tensorflow import keras\n",
        "from PIL import Image\n",
        "from keras.models import Sequential, Model\n",
        "from keras.applications.vgg16 import VGG16, preprocess_input\n",
        "from keras.preprocessing.image import ImageDataGenerator,load_img, img_to_array\n",
        "from keras.models import Sequential\n",
        "from keras.layers import Conv2D, MaxPooling2D, Dense, Dropout, Input, Flatten, SeparableConv2D\n",
        "from keras.layers import GlobalMaxPooling2D\n",
        "from keras.layers import BatchNormalization\n",
        "from keras.models import Model\n",
        "from tensorflow.keras.optimizers import Adam , SGD, RMSprop\n",
        "from keras.callbacks import ModelCheckpoint, Callback, EarlyStopping\n",
        "from tensorflow.keras.utils import to_categorical\n",
        "from keras import backend as K\n",
        "import numpy as np\n"
      ],
      "execution_count": 1,
      "outputs": []
    },
    {
      "cell_type": "markdown",
      "metadata": {
        "id": "U1SEOEDjcoBV"
      },
      "source": [
        "**Creating data generators**"
      ]
    },
    {
      "cell_type": "code",
      "metadata": {
        "colab": {
          "base_uri": "https://localhost:8080/"
        },
        "id": "X7ciXx1mctsF",
        "outputId": "a4985a8f-afc4-4a48-c54c-3045ab62cbf4"
      },
      "source": [
        "batch_size = 32  #was 16\n",
        "train_images = '/content/drive/MyDrive/ML_Dataset/FaceShape Dataset/training_set'\n",
        "test_images = '/content/drive/MyDrive/ML_Dataset/FaceShape Dataset/training_set'\n",
        "\n",
        "TrainDatagen = ImageDataGenerator(\n",
        "        preprocessing_function= preprocess_input,\n",
        "        horizontal_flip = True\n",
        "\n",
        "\n",
        ")\n",
        "\n",
        "TestDatagen = ImageDataGenerator(\n",
        "    preprocessing_function= preprocess_input\n",
        "\n",
        ")\n",
        "\n",
        "train_data = TrainDatagen.flow_from_directory(\n",
        "    train_images,\n",
        "    target_size = (224,224),\n",
        "    batch_size =batch_size,\n",
        "    class_mode = 'categorical'\n",
        "\n",
        "\n",
        ")\n",
        "\n",
        "test_data = TestDatagen.flow_from_directory(\n",
        "    test_images,\n",
        "    target_size = (224,224),\n",
        "    batch_size = batch_size,\n",
        "    class_mode = 'categorical'\n",
        ")"
      ],
      "execution_count": 2,
      "outputs": [
        {
          "output_type": "stream",
          "text": [
            "Found 4000 images belonging to 5 classes.\n",
            "Found 4000 images belonging to 5 classes.\n"
          ],
          "name": "stdout"
        }
      ]
    },
    {
      "cell_type": "markdown",
      "metadata": {
        "id": "d0TRGoGcepIi"
      },
      "source": [
        "**Creating the Model**"
      ]
    },
    {
      "cell_type": "code",
      "metadata": {
        "colab": {
          "base_uri": "https://localhost:8080/"
        },
        "id": "T7vo8QPQetUy",
        "outputId": "2f11a8a1-1680-4901-fcdc-9659baf4019a"
      },
      "source": [
        "def build_model():\n",
        "    input_img = Input(shape=(224,224,3), name='ImageInput')\n",
        "    x = Conv2D(64, (3,3), activation='relu', padding='same', name='Conv1_1')(input_img)\n",
        "    x = Conv2D(64, (3,3), activation='relu', padding='same', name='Conv1_2')(x)\n",
        "    x = MaxPooling2D((2,2), name='pool1')(x)\n",
        "    \n",
        "    x = SeparableConv2D(128, (3,3), activation='relu', padding='same', name='Conv2_1')(x)\n",
        "    x = SeparableConv2D(128, (3,3), activation='relu', padding='same', name='Conv2_2')(x)\n",
        "    x = MaxPooling2D((2,2), name='pool2')(x)\n",
        "    x = Dropout(0.3)(x)\n",
        "    \n",
        "    x = SeparableConv2D(256, (3,3), activation='relu', padding='same', name='Conv3_1')(x)\n",
        "    x = BatchNormalization(name='bn1')(x)\n",
        "    x = SeparableConv2D(256, (3,3), activation='relu', padding='same', name='Conv3_2')(x)\n",
        "    x = BatchNormalization(name='bn2')(x)\n",
        "    x = SeparableConv2D(256, (3,3), activation='relu', padding='same', name='Conv3_3')(x)\n",
        "    x = MaxPooling2D((2,2), name='pool3')(x)\n",
        "    x = Dropout(0.5)(x)\n",
        "    \n",
        "    x = SeparableConv2D(512, (3,3), activation='relu', padding='same', name='Conv4_1')(x)\n",
        "    x = BatchNormalization(name='bn3')(x)\n",
        "    x = SeparableConv2D(512, (3,3), activation='relu', padding='same', name='Conv4_2')(x)\n",
        "    x = BatchNormalization(name='bn4')(x)\n",
        "    x = Dropout(0.5)(x)\n",
        "    x = SeparableConv2D(512, (3,3), activation='relu', padding='same', name='Conv4_3')(x)\n",
        "    x = MaxPooling2D((2,2), name='pool4')(x)\n",
        "    \n",
        "    \n",
        "    x = Flatten(name='flatten')(x)\n",
        "    x = Dense(1024, activation='relu', name='fc1')(x)\n",
        "    x = Dropout(0.7, name='dropout1')(x)\n",
        "    x = Dense(512, activation='relu', name='fc2')(x)\n",
        "    x = Dropout(0.5, name='dropout2')(x)\n",
        "    x = Dense(5, activation='softmax', name='fc3')(x)\n",
        "    \n",
        "    model = Model(inputs=input_img, outputs=x)\n",
        "    return model\n",
        "\n",
        "\n",
        "\n",
        "\n",
        "model =  build_model()\n",
        "model.summary()"
      ],
      "execution_count": 3,
      "outputs": [
        {
          "output_type": "stream",
          "text": [
            "Model: \"model\"\n",
            "_________________________________________________________________\n",
            "Layer (type)                 Output Shape              Param #   \n",
            "=================================================================\n",
            "ImageInput (InputLayer)      [(None, 224, 224, 3)]     0         \n",
            "_________________________________________________________________\n",
            "Conv1_1 (Conv2D)             (None, 224, 224, 64)      1792      \n",
            "_________________________________________________________________\n",
            "Conv1_2 (Conv2D)             (None, 224, 224, 64)      36928     \n",
            "_________________________________________________________________\n",
            "pool1 (MaxPooling2D)         (None, 112, 112, 64)      0         \n",
            "_________________________________________________________________\n",
            "Conv2_1 (SeparableConv2D)    (None, 112, 112, 128)     8896      \n",
            "_________________________________________________________________\n",
            "Conv2_2 (SeparableConv2D)    (None, 112, 112, 128)     17664     \n",
            "_________________________________________________________________\n",
            "pool2 (MaxPooling2D)         (None, 56, 56, 128)       0         \n",
            "_________________________________________________________________\n",
            "dropout (Dropout)            (None, 56, 56, 128)       0         \n",
            "_________________________________________________________________\n",
            "Conv3_1 (SeparableConv2D)    (None, 56, 56, 256)       34176     \n",
            "_________________________________________________________________\n",
            "bn1 (BatchNormalization)     (None, 56, 56, 256)       1024      \n",
            "_________________________________________________________________\n",
            "Conv3_2 (SeparableConv2D)    (None, 56, 56, 256)       68096     \n",
            "_________________________________________________________________\n",
            "bn2 (BatchNormalization)     (None, 56, 56, 256)       1024      \n",
            "_________________________________________________________________\n",
            "Conv3_3 (SeparableConv2D)    (None, 56, 56, 256)       68096     \n",
            "_________________________________________________________________\n",
            "pool3 (MaxPooling2D)         (None, 28, 28, 256)       0         \n",
            "_________________________________________________________________\n",
            "dropout_1 (Dropout)          (None, 28, 28, 256)       0         \n",
            "_________________________________________________________________\n",
            "Conv4_1 (SeparableConv2D)    (None, 28, 28, 512)       133888    \n",
            "_________________________________________________________________\n",
            "bn3 (BatchNormalization)     (None, 28, 28, 512)       2048      \n",
            "_________________________________________________________________\n",
            "Conv4_2 (SeparableConv2D)    (None, 28, 28, 512)       267264    \n",
            "_________________________________________________________________\n",
            "bn4 (BatchNormalization)     (None, 28, 28, 512)       2048      \n",
            "_________________________________________________________________\n",
            "dropout_2 (Dropout)          (None, 28, 28, 512)       0         \n",
            "_________________________________________________________________\n",
            "Conv4_3 (SeparableConv2D)    (None, 28, 28, 512)       267264    \n",
            "_________________________________________________________________\n",
            "pool4 (MaxPooling2D)         (None, 14, 14, 512)       0         \n",
            "_________________________________________________________________\n",
            "flatten (Flatten)            (None, 100352)            0         \n",
            "_________________________________________________________________\n",
            "fc1 (Dense)                  (None, 1024)              102761472 \n",
            "_________________________________________________________________\n",
            "dropout1 (Dropout)           (None, 1024)              0         \n",
            "_________________________________________________________________\n",
            "fc2 (Dense)                  (None, 512)               524800    \n",
            "_________________________________________________________________\n",
            "dropout2 (Dropout)           (None, 512)               0         \n",
            "_________________________________________________________________\n",
            "fc3 (Dense)                  (None, 5)                 2565      \n",
            "=================================================================\n",
            "Total params: 104,199,045\n",
            "Trainable params: 104,195,973\n",
            "Non-trainable params: 3,072\n",
            "_________________________________________________________________\n"
          ],
          "name": "stdout"
        }
      ]
    },
    {
      "cell_type": "markdown",
      "metadata": {
        "id": "0jhZ8WQUf_bH"
      },
      "source": [
        "Reason for using separable convolutions instead of the normal 2DConvolutions:\n",
        "\n",
        "1.   It offers fewer trainable weight parameters hence faster training.- This layer performs a spatial convolution on each of the 3 color channels independently before mixing output channels via a pointwise convolution(1x1 convolution) ie This helps in separating learning of the spatial features and learning of the channel wise features.\n",
        "\n",
        "\n"
      ]
    },
    {
      "cell_type": "code",
      "metadata": {
        "colab": {
          "base_uri": "https://localhost:8080/"
        },
        "id": "UUah6cveey0P",
        "outputId": "70cce1b5-8469-42bb-a8f9-ff81fc06f31b"
      },
      "source": [
        "# opt = RMSprop(lr=0.0001, decay=1e-6)\n",
        "opt = Adam(lr=0.0001, decay=1e-5)\n",
        "# opt = SGD()\n",
        "# es = EarlyStopping(patience=10,min_delta= .05, monitor=\"val_acc\")\n",
        "chkpt = ModelCheckpoint(filepath='best_model_todate', save_best_only=True, save_weights_only=True)\n",
        "model.compile(loss='categorical_crossentropy', metrics=['accuracy'],optimizer=opt)\n",
        "\n",
        "# metric being tracked is accuracy. This is in order to measure how well each images is being correctly classified to its group."
      ],
      "execution_count": 4,
      "outputs": [
        {
          "output_type": "stream",
          "text": [
            "/usr/local/lib/python3.7/dist-packages/keras/optimizer_v2/optimizer_v2.py:356: UserWarning: The `lr` argument is deprecated, use `learning_rate` instead.\n",
            "  \"The `lr` argument is deprecated, use `learning_rate` instead.\")\n"
          ],
          "name": "stderr"
        }
      ]
    },
    {
      "cell_type": "markdown",
      "metadata": {
        "id": "_hfgWH4WhQWc"
      },
      "source": [
        "**Training the Model**"
      ]
    },
    {
      "cell_type": "code",
      "metadata": {
        "colab": {
          "base_uri": "https://localhost:8080/"
        },
        "id": "dJnpSEOLhP8_",
        "outputId": "a5972b6c-8d07-449c-89d7-89c3dbdc8bc8"
      },
      "source": [
        "# Fit the model\n",
        "from PIL import ImageFile\n",
        "ImageFile.LOAD_TRUNCATED_IMAGES = True\n",
        "history = model.fit_generator(\n",
        "    train_data,              \n",
        "    steps_per_epoch = train_data.samples//batch_size,\n",
        "    validation_data = test_data,\n",
        "    validation_steps = test_data.samples//batch_size,\n",
        "    epochs = 50,\n",
        "    callbacks=[chkpt]\n",
        ")"
      ],
      "execution_count": 5,
      "outputs": [
        {
          "metadata": {
            "tags": null
          },
          "name": "stderr",
          "output_type": "stream",
          "text": [
            "/usr/local/lib/python3.7/dist-packages/keras/engine/training.py:1972: UserWarning: `Model.fit_generator` is deprecated and will be removed in a future version. Please use `Model.fit`, which supports generators.\n",
            "  warnings.warn('`Model.fit_generator` is deprecated and '\n"
          ]
        },
        {
          "output_type": "stream",
          "text": [
            "Epoch 1/50\n",
            "125/125 [==============================] - 2874s 23s/step - loss: 1.6099 - accuracy: 0.2077 - val_loss: 1.6094 - val_accuracy: 0.2000\n",
            "Epoch 2/50\n",
            "125/125 [==============================] - 177s 1s/step - loss: 1.6082 - accuracy: 0.2115 - val_loss: 1.6095 - val_accuracy: 0.2000\n",
            "Epoch 3/50\n",
            "125/125 [==============================] - 177s 1s/step - loss: 1.6054 - accuracy: 0.2320 - val_loss: 1.6096 - val_accuracy: 0.2000\n",
            "Epoch 4/50\n",
            "125/125 [==============================] - 178s 1s/step - loss: 1.6024 - accuracy: 0.2447 - val_loss: 1.6103 - val_accuracy: 0.2000\n",
            "Epoch 5/50\n",
            "125/125 [==============================] - 179s 1s/step - loss: 1.5828 - accuracy: 0.2660 - val_loss: 1.6115 - val_accuracy: 0.2005\n",
            "Epoch 6/50\n",
            "125/125 [==============================] - 179s 1s/step - loss: 1.5394 - accuracy: 0.2880 - val_loss: 1.5967 - val_accuracy: 0.2327\n",
            "Epoch 7/50\n",
            "125/125 [==============================] - 180s 1s/step - loss: 1.4984 - accuracy: 0.3235 - val_loss: 1.5007 - val_accuracy: 0.3520\n",
            "Epoch 8/50\n",
            "125/125 [==============================] - 178s 1s/step - loss: 1.4638 - accuracy: 0.3372 - val_loss: 1.4604 - val_accuracy: 0.3745\n",
            "Epoch 9/50\n",
            "125/125 [==============================] - 176s 1s/step - loss: 1.4469 - accuracy: 0.3668 - val_loss: 1.4021 - val_accuracy: 0.4022\n",
            "Epoch 10/50\n",
            "125/125 [==============================] - 178s 1s/step - loss: 1.4213 - accuracy: 0.3780 - val_loss: 1.3611 - val_accuracy: 0.4193\n",
            "Epoch 11/50\n",
            "125/125 [==============================] - 178s 1s/step - loss: 1.3902 - accuracy: 0.4010 - val_loss: 1.3381 - val_accuracy: 0.4245\n",
            "Epoch 12/50\n",
            "125/125 [==============================] - 175s 1s/step - loss: 1.3604 - accuracy: 0.4240 - val_loss: 1.3450 - val_accuracy: 0.4272\n",
            "Epoch 13/50\n",
            "125/125 [==============================] - 175s 1s/step - loss: 1.3507 - accuracy: 0.4238 - val_loss: 1.2763 - val_accuracy: 0.4697\n",
            "Epoch 14/50\n",
            "125/125 [==============================] - 178s 1s/step - loss: 1.3214 - accuracy: 0.4453 - val_loss: 1.4865 - val_accuracy: 0.3560\n",
            "Epoch 15/50\n",
            "125/125 [==============================] - 177s 1s/step - loss: 1.3073 - accuracy: 0.4512 - val_loss: 1.2544 - val_accuracy: 0.4902\n",
            "Epoch 16/50\n",
            "125/125 [==============================] - 176s 1s/step - loss: 1.2722 - accuracy: 0.4642 - val_loss: 1.3182 - val_accuracy: 0.4325\n",
            "Epoch 17/50\n",
            "125/125 [==============================] - 176s 1s/step - loss: 1.2456 - accuracy: 0.4900 - val_loss: 1.2139 - val_accuracy: 0.5035\n",
            "Epoch 18/50\n",
            "125/125 [==============================] - 177s 1s/step - loss: 1.2249 - accuracy: 0.5005 - val_loss: 1.1328 - val_accuracy: 0.5357\n",
            "Epoch 19/50\n",
            "125/125 [==============================] - 179s 1s/step - loss: 1.1934 - accuracy: 0.5105 - val_loss: 1.1168 - val_accuracy: 0.5452\n",
            "Epoch 20/50\n",
            "125/125 [==============================] - 175s 1s/step - loss: 1.1765 - accuracy: 0.5165 - val_loss: 1.1463 - val_accuracy: 0.5245\n",
            "Epoch 21/50\n",
            "125/125 [==============================] - 175s 1s/step - loss: 1.1604 - accuracy: 0.5188 - val_loss: 1.0949 - val_accuracy: 0.5575\n",
            "Epoch 22/50\n",
            "125/125 [==============================] - 177s 1s/step - loss: 1.1399 - accuracy: 0.5397 - val_loss: 1.0870 - val_accuracy: 0.5570\n",
            "Epoch 23/50\n",
            "125/125 [==============================] - 176s 1s/step - loss: 1.1001 - accuracy: 0.5600 - val_loss: 1.0399 - val_accuracy: 0.5748\n",
            "Epoch 24/50\n",
            "125/125 [==============================] - 179s 1s/step - loss: 1.0936 - accuracy: 0.5617 - val_loss: 0.9518 - val_accuracy: 0.6298\n",
            "Epoch 25/50\n",
            "125/125 [==============================] - 176s 1s/step - loss: 1.0643 - accuracy: 0.5710 - val_loss: 0.9301 - val_accuracy: 0.6270\n",
            "Epoch 26/50\n",
            "125/125 [==============================] - 176s 1s/step - loss: 1.0371 - accuracy: 0.5872 - val_loss: 0.9095 - val_accuracy: 0.6442\n",
            "Epoch 27/50\n",
            "125/125 [==============================] - 176s 1s/step - loss: 1.0209 - accuracy: 0.5863 - val_loss: 0.9206 - val_accuracy: 0.6295\n",
            "Epoch 28/50\n",
            "125/125 [==============================] - 175s 1s/step - loss: 0.9931 - accuracy: 0.5987 - val_loss: 0.8390 - val_accuracy: 0.6650\n",
            "Epoch 29/50\n",
            "125/125 [==============================] - 176s 1s/step - loss: 0.9593 - accuracy: 0.6183 - val_loss: 0.7960 - val_accuracy: 0.6845\n",
            "Epoch 30/50\n",
            "125/125 [==============================] - 175s 1s/step - loss: 0.9609 - accuracy: 0.6115 - val_loss: 0.8227 - val_accuracy: 0.6910\n",
            "Epoch 31/50\n",
            "125/125 [==============================] - 174s 1s/step - loss: 0.9142 - accuracy: 0.6357 - val_loss: 0.7604 - val_accuracy: 0.7015\n",
            "Epoch 32/50\n",
            "125/125 [==============================] - 173s 1s/step - loss: 0.9187 - accuracy: 0.6413 - val_loss: 0.7110 - val_accuracy: 0.7290\n",
            "Epoch 33/50\n",
            "125/125 [==============================] - 175s 1s/step - loss: 0.8827 - accuracy: 0.6490 - val_loss: 0.7649 - val_accuracy: 0.7007\n",
            "Epoch 34/50\n",
            "125/125 [==============================] - 174s 1s/step - loss: 0.8378 - accuracy: 0.6722 - val_loss: 0.6791 - val_accuracy: 0.7448\n",
            "Epoch 35/50\n",
            "125/125 [==============================] - 173s 1s/step - loss: 0.8148 - accuracy: 0.6722 - val_loss: 0.7470 - val_accuracy: 0.7060\n",
            "Epoch 36/50\n",
            "125/125 [==============================] - 174s 1s/step - loss: 0.8113 - accuracy: 0.6727 - val_loss: 0.7123 - val_accuracy: 0.7138\n",
            "Epoch 37/50\n",
            "125/125 [==============================] - 175s 1s/step - loss: 0.7809 - accuracy: 0.6995 - val_loss: 0.5840 - val_accuracy: 0.7790\n",
            "Epoch 38/50\n",
            "125/125 [==============================] - 174s 1s/step - loss: 0.7789 - accuracy: 0.6955 - val_loss: 0.5880 - val_accuracy: 0.7720\n",
            "Epoch 39/50\n",
            "125/125 [==============================] - 174s 1s/step - loss: 0.7522 - accuracy: 0.7147 - val_loss: 0.6041 - val_accuracy: 0.7738\n",
            "Epoch 40/50\n",
            "125/125 [==============================] - 175s 1s/step - loss: 0.7236 - accuracy: 0.7143 - val_loss: 0.5310 - val_accuracy: 0.7983\n",
            "Epoch 41/50\n",
            "125/125 [==============================] - 176s 1s/step - loss: 0.7021 - accuracy: 0.7325 - val_loss: 0.5564 - val_accuracy: 0.7893\n",
            "Epoch 42/50\n",
            "125/125 [==============================] - 175s 1s/step - loss: 0.6799 - accuracy: 0.7297 - val_loss: 0.4540 - val_accuracy: 0.8342\n",
            "Epoch 43/50\n",
            "125/125 [==============================] - 176s 1s/step - loss: 0.6312 - accuracy: 0.7533 - val_loss: 0.4997 - val_accuracy: 0.8167\n",
            "Epoch 44/50\n",
            "125/125 [==============================] - 177s 1s/step - loss: 0.6422 - accuracy: 0.7525 - val_loss: 0.4712 - val_accuracy: 0.8180\n",
            "Epoch 45/50\n",
            "125/125 [==============================] - 176s 1s/step - loss: 0.6122 - accuracy: 0.7607 - val_loss: 0.4158 - val_accuracy: 0.8580\n",
            "Epoch 46/50\n",
            "125/125 [==============================] - 176s 1s/step - loss: 0.5800 - accuracy: 0.7757 - val_loss: 0.3424 - val_accuracy: 0.8780\n",
            "Epoch 47/50\n",
            "125/125 [==============================] - 177s 1s/step - loss: 0.5815 - accuracy: 0.7763 - val_loss: 0.3387 - val_accuracy: 0.8860\n",
            "Epoch 48/50\n",
            "125/125 [==============================] - 177s 1s/step - loss: 0.5625 - accuracy: 0.7855 - val_loss: 0.3810 - val_accuracy: 0.8553\n",
            "Epoch 49/50\n",
            "125/125 [==============================] - 176s 1s/step - loss: 0.5523 - accuracy: 0.7853 - val_loss: 0.3139 - val_accuracy: 0.9080\n",
            "Epoch 50/50\n",
            "125/125 [==============================] - 177s 1s/step - loss: 0.5089 - accuracy: 0.8077 - val_loss: 0.3362 - val_accuracy: 0.8777\n"
          ],
          "name": "stdout"
        }
      ]
    },
    {
      "cell_type": "markdown",
      "metadata": {
        "id": "WT81_D-uhYaj"
      },
      "source": [
        "**Plotting acc vs Val_ acc and loss vs val loss**"
      ]
    },
    {
      "cell_type": "code",
      "metadata": {
        "id": "J8fACOBUhm_A",
        "colab": {
          "base_uri": "https://localhost:8080/",
          "height": 237
        },
        "outputId": "fc86a73b-dc23-4a0e-d0df-4cc1826acdbd"
      },
      "source": [
        "acc = history.history['acc']\n",
        "val_acc = history.history['val_acc']\n",
        "\n",
        "loss = history.history['loss']\n",
        "val_loss = history.history['val_loss']\n",
        "\n",
        "import matplotlib.pyplot as plt\n",
        "\n",
        "\n",
        "epochs = range(len(acc))\n",
        "plt.plot(epochs,acc,'bo',label='Training acc')\n",
        "plt.plot(epochs,val_acc,'r',label='Validation acc')\n",
        "plt.legend()\n",
        "\n",
        "\n",
        "plt.figure()\n",
        "plt.plot(epochs,loss,'bo',label='Training loss')\n",
        "plt.plot(epochs,val_loss,'r',label='Validation loss')\n",
        "\n",
        "plt.legend()\n",
        "plt.show()"
      ],
      "execution_count": 6,
      "outputs": [
        {
          "output_type": "error",
          "ename": "KeyError",
          "evalue": "ignored",
          "traceback": [
            "\u001b[0;31m---------------------------------------------------------------------------\u001b[0m",
            "\u001b[0;31mKeyError\u001b[0m                                  Traceback (most recent call last)",
            "\u001b[0;32m<ipython-input-6-8dfcc6cb2f4c>\u001b[0m in \u001b[0;36m<module>\u001b[0;34m()\u001b[0m\n\u001b[0;32m----> 1\u001b[0;31m \u001b[0macc\u001b[0m \u001b[0;34m=\u001b[0m \u001b[0mhistory\u001b[0m\u001b[0;34m.\u001b[0m\u001b[0mhistory\u001b[0m\u001b[0;34m[\u001b[0m\u001b[0;34m'acc'\u001b[0m\u001b[0;34m]\u001b[0m\u001b[0;34m\u001b[0m\u001b[0;34m\u001b[0m\u001b[0m\n\u001b[0m\u001b[1;32m      2\u001b[0m \u001b[0mval_acc\u001b[0m \u001b[0;34m=\u001b[0m \u001b[0mhistory\u001b[0m\u001b[0;34m.\u001b[0m\u001b[0mhistory\u001b[0m\u001b[0;34m[\u001b[0m\u001b[0;34m'val_acc'\u001b[0m\u001b[0;34m]\u001b[0m\u001b[0;34m\u001b[0m\u001b[0;34m\u001b[0m\u001b[0m\n\u001b[1;32m      3\u001b[0m \u001b[0;34m\u001b[0m\u001b[0m\n\u001b[1;32m      4\u001b[0m \u001b[0mloss\u001b[0m \u001b[0;34m=\u001b[0m \u001b[0mhistory\u001b[0m\u001b[0;34m.\u001b[0m\u001b[0mhistory\u001b[0m\u001b[0;34m[\u001b[0m\u001b[0;34m'loss'\u001b[0m\u001b[0;34m]\u001b[0m\u001b[0;34m\u001b[0m\u001b[0;34m\u001b[0m\u001b[0m\n\u001b[1;32m      5\u001b[0m \u001b[0mval_loss\u001b[0m \u001b[0;34m=\u001b[0m \u001b[0mhistory\u001b[0m\u001b[0;34m.\u001b[0m\u001b[0mhistory\u001b[0m\u001b[0;34m[\u001b[0m\u001b[0;34m'val_loss'\u001b[0m\u001b[0;34m]\u001b[0m\u001b[0;34m\u001b[0m\u001b[0;34m\u001b[0m\u001b[0m\n",
            "\u001b[0;31mKeyError\u001b[0m: 'acc'"
          ]
        }
      ]
    },
    {
      "cell_type": "markdown",
      "metadata": {
        "id": "ltlZkTyJhp2v"
      },
      "source": [
        "**Saving model**"
      ]
    },
    {
      "cell_type": "code",
      "metadata": {
        "id": "XEkdduIlhtO9"
      },
      "source": [
        "model.save('new_face_classifier.h5')"
      ],
      "execution_count": null,
      "outputs": []
    },
    {
      "cell_type": "code",
      "metadata": {
        "id": "y6ecQn8un1u0"
      },
      "source": [
        ""
      ],
      "execution_count": null,
      "outputs": []
    }
  ]
}